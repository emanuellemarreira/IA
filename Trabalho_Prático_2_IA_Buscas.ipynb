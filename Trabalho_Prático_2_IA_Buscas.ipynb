{
  "nbformat": 4,
  "nbformat_minor": 0,
  "metadata": {
    "colab": {
      "provenance": []
    },
    "kernelspec": {
      "name": "python3",
      "display_name": "Python 3"
    },
    "language_info": {
      "name": "python"
    }
  },
  "cells": [
    {
      "cell_type": "markdown",
      "source": [
        "<center>\n",
        "UNIVERSIDADE DO ESTADO DO AMAZONAS<br><br>\n",
        "ANDREY GABRIEL DOS ANJOS MENDES<br>\n",
        "BEATRIZ GUEDES DA SILVA<br>\n",
        "EMANUELLE ROCHA MARREIRA<br>\n",
        "ÍTALO FERREIRA FONSECA<br>\n",
        "JOÃO VITOR SILVA DE CARVALHO\n",
        "<BR><BR>\n",
        "TRABALHO PRÁTICO: ALGORITMOS DE BUSCA<br><br>\n",
        "PROFESSOR: TIAGO EUGENIO DE MELO\n",
        "</center>"
      ],
      "metadata": {
        "id": "arkxl8z-B1Ei"
      }
    },
    {
      "cell_type": "markdown",
      "source": [
        "# Busca com heurística\n",
        "\n",
        "Uma heurística é uma técnica utilizada para resolver problemas que, embora não garanta uma solução ótima ou perfeita, oferece uma solução suficientemente boa de forma eficiente. Essas técnicas são baseadas em experiências passadas e intuições, permitindo decisões rápidas e práticas em situações complexas ou de informações incompletas.\n",
        "\n",
        "Heurísticas são comumente usadas em áreas como ciência da computação, inteligência artificial e psicologia cognitiva. Elas servem para simplificar a resolução de problemas complexos ao reduzir o número de opções possíveis a serem consideradas.\n",
        "\n",
        "Por exemplo, em algoritmos de busca, uma heurística pode guiar o processo de busca em direção ao objetivo esperado, agilizando a solução.\n",
        "\n",
        "Para este trabalho, faremos uma heurística que consiste em priorizar a busca por pessoa que contém mais filmes feitos. Por exemplo, um ator que fez 10 filmes terá mais prioridade de busca do que um ator que fez apenas 5.\n",
        "\n",
        "Escolhemos essa estratégia como forma de direcionar uma busca gulosa, de forma que o tempo de execução do algoritmo seja reduzido, já que um ator que possui mais conexões possui mais chances de ter contracenado com o ator procurado.\n",
        "\n",
        "\n"
      ],
      "metadata": {
        "id": "5FJ84AFiVGxE"
      }
    },
    {
      "cell_type": "markdown",
      "source": [
        "# Implementação dos Algoritmos de Busca"
      ],
      "metadata": {
        "id": "P7mI2hJ8WlUI"
      }
    },
    {
      "cell_type": "markdown",
      "source": [
        "## Busca Bidirecional\n",
        "\n",
        "A busca bidirecional é uma estratégia de busca que, em vez de buscar do estado inicial ao objetivo, realiza duas buscas simultâneas: uma partindo do estado inicial (forward) e outra do estado objetivo (backward). O objetivo é que ambas as buscas se encontrem em algum ponto intermediário do espaço de busca, reduzindo significativamente o tempo necessário para encontrar a solução.\n",
        "\n",
        "A busca bidirecional pode ser muito eficiente em termos de tempo de execução, especialmente em problemas onde o fator de ramificação $(b)$ é alto em ambas as direções\n",
        "\n",
        "Como a busca ocorre em duas direções, o espaço de busca total explorado é consideravelmente menor do que na busca unidirecional. Isso significa que menos nós precisam ser expandidos e avaliados, contribuindo para a eficiência do algoritmo."
      ],
      "metadata": {
        "id": "fKElmdNRBzg1"
      }
    },
    {
      "cell_type": "markdown",
      "source": [
        "### Exemplo com um grafo menor e fictício"
      ],
      "metadata": {
        "id": "MmwxvHOBPm0p"
      }
    },
    {
      "cell_type": "code",
      "source": [
        "# Importação de Bibliotecas\n",
        "import networkx as nx\n",
        "import ast\n",
        "import pandas as pd\n",
        "import io\n",
        "from google.colab import files"
      ],
      "metadata": {
        "id": "e3kE7OZEjGf4"
      },
      "execution_count": null,
      "outputs": []
    },
    {
      "cell_type": "code",
      "source": [
        "# Faz upload do arquivo CSV e armazena o nome do primeiro arquivo carregado\n",
        "file = files.upload()\n",
        "filename = list(file.keys())[0]\n",
        "\n",
        "# Lê o arquivo CSV carregado em um DataFrame\n",
        "data = pd.read_csv(io.BytesIO(file[filename]))\n",
        "\n",
        "data.head(5)\n"
      ],
      "metadata": {
        "id": "4Ym7wCKxc_v6",
        "colab": {
          "base_uri": "https://localhost:8080/",
          "height": 335
        },
        "outputId": "1b93f9a8-3a61-490d-9a0c-517a29872ee2"
      },
      "execution_count": null,
      "outputs": [
        {
          "output_type": "display_data",
          "data": {
            "text/plain": [
              "<IPython.core.display.HTML object>"
            ],
            "text/html": [
              "\n",
              "     <input type=\"file\" id=\"files-a580a4a6-e59a-43b6-abe1-da2549e7e539\" name=\"files[]\" multiple disabled\n",
              "        style=\"border:none\" />\n",
              "     <output id=\"result-a580a4a6-e59a-43b6-abe1-da2549e7e539\">\n",
              "      Upload widget is only available when the cell has been executed in the\n",
              "      current browser session. Please rerun this cell to enable.\n",
              "      </output>\n",
              "      <script>// Copyright 2017 Google LLC\n",
              "//\n",
              "// Licensed under the Apache License, Version 2.0 (the \"License\");\n",
              "// you may not use this file except in compliance with the License.\n",
              "// You may obtain a copy of the License at\n",
              "//\n",
              "//      http://www.apache.org/licenses/LICENSE-2.0\n",
              "//\n",
              "// Unless required by applicable law or agreed to in writing, software\n",
              "// distributed under the License is distributed on an \"AS IS\" BASIS,\n",
              "// WITHOUT WARRANTIES OR CONDITIONS OF ANY KIND, either express or implied.\n",
              "// See the License for the specific language governing permissions and\n",
              "// limitations under the License.\n",
              "\n",
              "/**\n",
              " * @fileoverview Helpers for google.colab Python module.\n",
              " */\n",
              "(function(scope) {\n",
              "function span(text, styleAttributes = {}) {\n",
              "  const element = document.createElement('span');\n",
              "  element.textContent = text;\n",
              "  for (const key of Object.keys(styleAttributes)) {\n",
              "    element.style[key] = styleAttributes[key];\n",
              "  }\n",
              "  return element;\n",
              "}\n",
              "\n",
              "// Max number of bytes which will be uploaded at a time.\n",
              "const MAX_PAYLOAD_SIZE = 100 * 1024;\n",
              "\n",
              "function _uploadFiles(inputId, outputId) {\n",
              "  const steps = uploadFilesStep(inputId, outputId);\n",
              "  const outputElement = document.getElementById(outputId);\n",
              "  // Cache steps on the outputElement to make it available for the next call\n",
              "  // to uploadFilesContinue from Python.\n",
              "  outputElement.steps = steps;\n",
              "\n",
              "  return _uploadFilesContinue(outputId);\n",
              "}\n",
              "\n",
              "// This is roughly an async generator (not supported in the browser yet),\n",
              "// where there are multiple asynchronous steps and the Python side is going\n",
              "// to poll for completion of each step.\n",
              "// This uses a Promise to block the python side on completion of each step,\n",
              "// then passes the result of the previous step as the input to the next step.\n",
              "function _uploadFilesContinue(outputId) {\n",
              "  const outputElement = document.getElementById(outputId);\n",
              "  const steps = outputElement.steps;\n",
              "\n",
              "  const next = steps.next(outputElement.lastPromiseValue);\n",
              "  return Promise.resolve(next.value.promise).then((value) => {\n",
              "    // Cache the last promise value to make it available to the next\n",
              "    // step of the generator.\n",
              "    outputElement.lastPromiseValue = value;\n",
              "    return next.value.response;\n",
              "  });\n",
              "}\n",
              "\n",
              "/**\n",
              " * Generator function which is called between each async step of the upload\n",
              " * process.\n",
              " * @param {string} inputId Element ID of the input file picker element.\n",
              " * @param {string} outputId Element ID of the output display.\n",
              " * @return {!Iterable<!Object>} Iterable of next steps.\n",
              " */\n",
              "function* uploadFilesStep(inputId, outputId) {\n",
              "  const inputElement = document.getElementById(inputId);\n",
              "  inputElement.disabled = false;\n",
              "\n",
              "  const outputElement = document.getElementById(outputId);\n",
              "  outputElement.innerHTML = '';\n",
              "\n",
              "  const pickedPromise = new Promise((resolve) => {\n",
              "    inputElement.addEventListener('change', (e) => {\n",
              "      resolve(e.target.files);\n",
              "    });\n",
              "  });\n",
              "\n",
              "  const cancel = document.createElement('button');\n",
              "  inputElement.parentElement.appendChild(cancel);\n",
              "  cancel.textContent = 'Cancel upload';\n",
              "  const cancelPromise = new Promise((resolve) => {\n",
              "    cancel.onclick = () => {\n",
              "      resolve(null);\n",
              "    };\n",
              "  });\n",
              "\n",
              "  // Wait for the user to pick the files.\n",
              "  const files = yield {\n",
              "    promise: Promise.race([pickedPromise, cancelPromise]),\n",
              "    response: {\n",
              "      action: 'starting',\n",
              "    }\n",
              "  };\n",
              "\n",
              "  cancel.remove();\n",
              "\n",
              "  // Disable the input element since further picks are not allowed.\n",
              "  inputElement.disabled = true;\n",
              "\n",
              "  if (!files) {\n",
              "    return {\n",
              "      response: {\n",
              "        action: 'complete',\n",
              "      }\n",
              "    };\n",
              "  }\n",
              "\n",
              "  for (const file of files) {\n",
              "    const li = document.createElement('li');\n",
              "    li.append(span(file.name, {fontWeight: 'bold'}));\n",
              "    li.append(span(\n",
              "        `(${file.type || 'n/a'}) - ${file.size} bytes, ` +\n",
              "        `last modified: ${\n",
              "            file.lastModifiedDate ? file.lastModifiedDate.toLocaleDateString() :\n",
              "                                    'n/a'} - `));\n",
              "    const percent = span('0% done');\n",
              "    li.appendChild(percent);\n",
              "\n",
              "    outputElement.appendChild(li);\n",
              "\n",
              "    const fileDataPromise = new Promise((resolve) => {\n",
              "      const reader = new FileReader();\n",
              "      reader.onload = (e) => {\n",
              "        resolve(e.target.result);\n",
              "      };\n",
              "      reader.readAsArrayBuffer(file);\n",
              "    });\n",
              "    // Wait for the data to be ready.\n",
              "    let fileData = yield {\n",
              "      promise: fileDataPromise,\n",
              "      response: {\n",
              "        action: 'continue',\n",
              "      }\n",
              "    };\n",
              "\n",
              "    // Use a chunked sending to avoid message size limits. See b/62115660.\n",
              "    let position = 0;\n",
              "    do {\n",
              "      const length = Math.min(fileData.byteLength - position, MAX_PAYLOAD_SIZE);\n",
              "      const chunk = new Uint8Array(fileData, position, length);\n",
              "      position += length;\n",
              "\n",
              "      const base64 = btoa(String.fromCharCode.apply(null, chunk));\n",
              "      yield {\n",
              "        response: {\n",
              "          action: 'append',\n",
              "          file: file.name,\n",
              "          data: base64,\n",
              "        },\n",
              "      };\n",
              "\n",
              "      let percentDone = fileData.byteLength === 0 ?\n",
              "          100 :\n",
              "          Math.round((position / fileData.byteLength) * 100);\n",
              "      percent.textContent = `${percentDone}% done`;\n",
              "\n",
              "    } while (position < fileData.byteLength);\n",
              "  }\n",
              "\n",
              "  // All done.\n",
              "  yield {\n",
              "    response: {\n",
              "      action: 'complete',\n",
              "    }\n",
              "  };\n",
              "}\n",
              "\n",
              "scope.google = scope.google || {};\n",
              "scope.google.colab = scope.google.colab || {};\n",
              "scope.google.colab._files = {\n",
              "  _uploadFiles,\n",
              "  _uploadFilesContinue,\n",
              "};\n",
              "})(self);\n",
              "</script> "
            ]
          },
          "metadata": {}
        },
        {
          "output_type": "stream",
          "name": "stdout",
          "text": [
            "Saving data.csv to data (6).csv\n"
          ]
        },
        {
          "output_type": "execute_result",
          "data": {
            "text/plain": [
              "   Unnamed: 0                           Movie Name  Year of Release  \\\n",
              "0           0             The Shawshank Redemption             1994   \n",
              "1           1                        The Godfather             1972   \n",
              "2           2  Ramayana: The Legend of Prince Rama             1993   \n",
              "3           3                      The Chaos Class             1975   \n",
              "\n",
              "   Run Time in minutes  Movie Rating    Votes  MetaScore        Gross  \\\n",
              "0                  142           9.3  2804443       82.0   28340000.0   \n",
              "1                  175           9.2  1954174      100.0  134970000.0   \n",
              "2                  135           9.2    12995        NaN          NaN   \n",
              "3                   87           9.2    42231        NaN          NaN   \n",
              "\n",
              "                                    Genre Certification  \\\n",
              "0                               ['Drama']             R   \n",
              "1                     ['Crime', ' Drama']             R   \n",
              "2  ['Animation', ' Action', ' Adventure']            PG   \n",
              "3                    ['Comedy', ' Drama']           NaN   \n",
              "\n",
              "                                     Director  \\\n",
              "0                          ['Frank Darabont']   \n",
              "1                    ['Francis Ford Coppola']   \n",
              "2  ['Ram Mohan', 'Yûgô Sakô', 'Koichi Saski']   \n",
              "3                           ['Ertem Egilmez']   \n",
              "\n",
              "                                               Stars  \\\n",
              "0  ['Tim Robbins', 'Morgan Freeman', 'Bob Gunton'...   \n",
              "1  ['Marlon Brando', 'Al Pacino', 'James Caan', '...   \n",
              "2  ['Arun Govil', 'Kevin Bacon', 'Edie Mirman', '...   \n",
              "3  ['William Sadler', 'Arun Govil', 'Al Pacino', ...   \n",
              "\n",
              "                                         Description  \n",
              "0  ['Over', 'the', 'course', 'of', 'several', 'ye...  \n",
              "1  ['Don', 'Vito', 'Corleone,', 'head', 'of', 'a'...  \n",
              "2  ['An', 'anime', 'adaptation', 'of', 'the', 'Hi...  \n",
              "3  ['Lazy,', 'uneducated', 'students', 'share', '...  "
            ],
            "text/html": [
              "\n",
              "  <div id=\"df-aa1165fd-f5a8-405e-b425-a5c87cfa238c\" class=\"colab-df-container\">\n",
              "    <div>\n",
              "<style scoped>\n",
              "    .dataframe tbody tr th:only-of-type {\n",
              "        vertical-align: middle;\n",
              "    }\n",
              "\n",
              "    .dataframe tbody tr th {\n",
              "        vertical-align: top;\n",
              "    }\n",
              "\n",
              "    .dataframe thead th {\n",
              "        text-align: right;\n",
              "    }\n",
              "</style>\n",
              "<table border=\"1\" class=\"dataframe\">\n",
              "  <thead>\n",
              "    <tr style=\"text-align: right;\">\n",
              "      <th></th>\n",
              "      <th>Unnamed: 0</th>\n",
              "      <th>Movie Name</th>\n",
              "      <th>Year of Release</th>\n",
              "      <th>Run Time in minutes</th>\n",
              "      <th>Movie Rating</th>\n",
              "      <th>Votes</th>\n",
              "      <th>MetaScore</th>\n",
              "      <th>Gross</th>\n",
              "      <th>Genre</th>\n",
              "      <th>Certification</th>\n",
              "      <th>Director</th>\n",
              "      <th>Stars</th>\n",
              "      <th>Description</th>\n",
              "    </tr>\n",
              "  </thead>\n",
              "  <tbody>\n",
              "    <tr>\n",
              "      <th>0</th>\n",
              "      <td>0</td>\n",
              "      <td>The Shawshank Redemption</td>\n",
              "      <td>1994</td>\n",
              "      <td>142</td>\n",
              "      <td>9.3</td>\n",
              "      <td>2804443</td>\n",
              "      <td>82.0</td>\n",
              "      <td>28340000.0</td>\n",
              "      <td>['Drama']</td>\n",
              "      <td>R</td>\n",
              "      <td>['Frank Darabont']</td>\n",
              "      <td>['Tim Robbins', 'Morgan Freeman', 'Bob Gunton'...</td>\n",
              "      <td>['Over', 'the', 'course', 'of', 'several', 'ye...</td>\n",
              "    </tr>\n",
              "    <tr>\n",
              "      <th>1</th>\n",
              "      <td>1</td>\n",
              "      <td>The Godfather</td>\n",
              "      <td>1972</td>\n",
              "      <td>175</td>\n",
              "      <td>9.2</td>\n",
              "      <td>1954174</td>\n",
              "      <td>100.0</td>\n",
              "      <td>134970000.0</td>\n",
              "      <td>['Crime', ' Drama']</td>\n",
              "      <td>R</td>\n",
              "      <td>['Francis Ford Coppola']</td>\n",
              "      <td>['Marlon Brando', 'Al Pacino', 'James Caan', '...</td>\n",
              "      <td>['Don', 'Vito', 'Corleone,', 'head', 'of', 'a'...</td>\n",
              "    </tr>\n",
              "    <tr>\n",
              "      <th>2</th>\n",
              "      <td>2</td>\n",
              "      <td>Ramayana: The Legend of Prince Rama</td>\n",
              "      <td>1993</td>\n",
              "      <td>135</td>\n",
              "      <td>9.2</td>\n",
              "      <td>12995</td>\n",
              "      <td>NaN</td>\n",
              "      <td>NaN</td>\n",
              "      <td>['Animation', ' Action', ' Adventure']</td>\n",
              "      <td>PG</td>\n",
              "      <td>['Ram Mohan', 'Yûgô Sakô', 'Koichi Saski']</td>\n",
              "      <td>['Arun Govil', 'Kevin Bacon', 'Edie Mirman', '...</td>\n",
              "      <td>['An', 'anime', 'adaptation', 'of', 'the', 'Hi...</td>\n",
              "    </tr>\n",
              "    <tr>\n",
              "      <th>3</th>\n",
              "      <td>3</td>\n",
              "      <td>The Chaos Class</td>\n",
              "      <td>1975</td>\n",
              "      <td>87</td>\n",
              "      <td>9.2</td>\n",
              "      <td>42231</td>\n",
              "      <td>NaN</td>\n",
              "      <td>NaN</td>\n",
              "      <td>['Comedy', ' Drama']</td>\n",
              "      <td>NaN</td>\n",
              "      <td>['Ertem Egilmez']</td>\n",
              "      <td>['William Sadler', 'Arun Govil', 'Al Pacino', ...</td>\n",
              "      <td>['Lazy,', 'uneducated', 'students', 'share', '...</td>\n",
              "    </tr>\n",
              "  </tbody>\n",
              "</table>\n",
              "</div>\n",
              "    <div class=\"colab-df-buttons\">\n",
              "\n",
              "  <div class=\"colab-df-container\">\n",
              "    <button class=\"colab-df-convert\" onclick=\"convertToInteractive('df-aa1165fd-f5a8-405e-b425-a5c87cfa238c')\"\n",
              "            title=\"Convert this dataframe to an interactive table.\"\n",
              "            style=\"display:none;\">\n",
              "\n",
              "  <svg xmlns=\"http://www.w3.org/2000/svg\" height=\"24px\" viewBox=\"0 -960 960 960\">\n",
              "    <path d=\"M120-120v-720h720v720H120Zm60-500h600v-160H180v160Zm220 220h160v-160H400v160Zm0 220h160v-160H400v160ZM180-400h160v-160H180v160Zm440 0h160v-160H620v160ZM180-180h160v-160H180v160Zm440 0h160v-160H620v160Z\"/>\n",
              "  </svg>\n",
              "    </button>\n",
              "\n",
              "  <style>\n",
              "    .colab-df-container {\n",
              "      display:flex;\n",
              "      gap: 12px;\n",
              "    }\n",
              "\n",
              "    .colab-df-convert {\n",
              "      background-color: #E8F0FE;\n",
              "      border: none;\n",
              "      border-radius: 50%;\n",
              "      cursor: pointer;\n",
              "      display: none;\n",
              "      fill: #1967D2;\n",
              "      height: 32px;\n",
              "      padding: 0 0 0 0;\n",
              "      width: 32px;\n",
              "    }\n",
              "\n",
              "    .colab-df-convert:hover {\n",
              "      background-color: #E2EBFA;\n",
              "      box-shadow: 0px 1px 2px rgba(60, 64, 67, 0.3), 0px 1px 3px 1px rgba(60, 64, 67, 0.15);\n",
              "      fill: #174EA6;\n",
              "    }\n",
              "\n",
              "    .colab-df-buttons div {\n",
              "      margin-bottom: 4px;\n",
              "    }\n",
              "\n",
              "    [theme=dark] .colab-df-convert {\n",
              "      background-color: #3B4455;\n",
              "      fill: #D2E3FC;\n",
              "    }\n",
              "\n",
              "    [theme=dark] .colab-df-convert:hover {\n",
              "      background-color: #434B5C;\n",
              "      box-shadow: 0px 1px 3px 1px rgba(0, 0, 0, 0.15);\n",
              "      filter: drop-shadow(0px 1px 2px rgba(0, 0, 0, 0.3));\n",
              "      fill: #FFFFFF;\n",
              "    }\n",
              "  </style>\n",
              "\n",
              "    <script>\n",
              "      const buttonEl =\n",
              "        document.querySelector('#df-aa1165fd-f5a8-405e-b425-a5c87cfa238c button.colab-df-convert');\n",
              "      buttonEl.style.display =\n",
              "        google.colab.kernel.accessAllowed ? 'block' : 'none';\n",
              "\n",
              "      async function convertToInteractive(key) {\n",
              "        const element = document.querySelector('#df-aa1165fd-f5a8-405e-b425-a5c87cfa238c');\n",
              "        const dataTable =\n",
              "          await google.colab.kernel.invokeFunction('convertToInteractive',\n",
              "                                                    [key], {});\n",
              "        if (!dataTable) return;\n",
              "\n",
              "        const docLinkHtml = 'Like what you see? Visit the ' +\n",
              "          '<a target=\"_blank\" href=https://colab.research.google.com/notebooks/data_table.ipynb>data table notebook</a>'\n",
              "          + ' to learn more about interactive tables.';\n",
              "        element.innerHTML = '';\n",
              "        dataTable['output_type'] = 'display_data';\n",
              "        await google.colab.output.renderOutput(dataTable, element);\n",
              "        const docLink = document.createElement('div');\n",
              "        docLink.innerHTML = docLinkHtml;\n",
              "        element.appendChild(docLink);\n",
              "      }\n",
              "    </script>\n",
              "  </div>\n",
              "\n",
              "\n",
              "<div id=\"df-943f6f40-826b-4149-9019-f9a666ca3527\">\n",
              "  <button class=\"colab-df-quickchart\" onclick=\"quickchart('df-943f6f40-826b-4149-9019-f9a666ca3527')\"\n",
              "            title=\"Suggest charts\"\n",
              "            style=\"display:none;\">\n",
              "\n",
              "<svg xmlns=\"http://www.w3.org/2000/svg\" height=\"24px\"viewBox=\"0 0 24 24\"\n",
              "     width=\"24px\">\n",
              "    <g>\n",
              "        <path d=\"M19 3H5c-1.1 0-2 .9-2 2v14c0 1.1.9 2 2 2h14c1.1 0 2-.9 2-2V5c0-1.1-.9-2-2-2zM9 17H7v-7h2v7zm4 0h-2V7h2v10zm4 0h-2v-4h2v4z\"/>\n",
              "    </g>\n",
              "</svg>\n",
              "  </button>\n",
              "\n",
              "<style>\n",
              "  .colab-df-quickchart {\n",
              "      --bg-color: #E8F0FE;\n",
              "      --fill-color: #1967D2;\n",
              "      --hover-bg-color: #E2EBFA;\n",
              "      --hover-fill-color: #174EA6;\n",
              "      --disabled-fill-color: #AAA;\n",
              "      --disabled-bg-color: #DDD;\n",
              "  }\n",
              "\n",
              "  [theme=dark] .colab-df-quickchart {\n",
              "      --bg-color: #3B4455;\n",
              "      --fill-color: #D2E3FC;\n",
              "      --hover-bg-color: #434B5C;\n",
              "      --hover-fill-color: #FFFFFF;\n",
              "      --disabled-bg-color: #3B4455;\n",
              "      --disabled-fill-color: #666;\n",
              "  }\n",
              "\n",
              "  .colab-df-quickchart {\n",
              "    background-color: var(--bg-color);\n",
              "    border: none;\n",
              "    border-radius: 50%;\n",
              "    cursor: pointer;\n",
              "    display: none;\n",
              "    fill: var(--fill-color);\n",
              "    height: 32px;\n",
              "    padding: 0;\n",
              "    width: 32px;\n",
              "  }\n",
              "\n",
              "  .colab-df-quickchart:hover {\n",
              "    background-color: var(--hover-bg-color);\n",
              "    box-shadow: 0 1px 2px rgba(60, 64, 67, 0.3), 0 1px 3px 1px rgba(60, 64, 67, 0.15);\n",
              "    fill: var(--button-hover-fill-color);\n",
              "  }\n",
              "\n",
              "  .colab-df-quickchart-complete:disabled,\n",
              "  .colab-df-quickchart-complete:disabled:hover {\n",
              "    background-color: var(--disabled-bg-color);\n",
              "    fill: var(--disabled-fill-color);\n",
              "    box-shadow: none;\n",
              "  }\n",
              "\n",
              "  .colab-df-spinner {\n",
              "    border: 2px solid var(--fill-color);\n",
              "    border-color: transparent;\n",
              "    border-bottom-color: var(--fill-color);\n",
              "    animation:\n",
              "      spin 1s steps(1) infinite;\n",
              "  }\n",
              "\n",
              "  @keyframes spin {\n",
              "    0% {\n",
              "      border-color: transparent;\n",
              "      border-bottom-color: var(--fill-color);\n",
              "      border-left-color: var(--fill-color);\n",
              "    }\n",
              "    20% {\n",
              "      border-color: transparent;\n",
              "      border-left-color: var(--fill-color);\n",
              "      border-top-color: var(--fill-color);\n",
              "    }\n",
              "    30% {\n",
              "      border-color: transparent;\n",
              "      border-left-color: var(--fill-color);\n",
              "      border-top-color: var(--fill-color);\n",
              "      border-right-color: var(--fill-color);\n",
              "    }\n",
              "    40% {\n",
              "      border-color: transparent;\n",
              "      border-right-color: var(--fill-color);\n",
              "      border-top-color: var(--fill-color);\n",
              "    }\n",
              "    60% {\n",
              "      border-color: transparent;\n",
              "      border-right-color: var(--fill-color);\n",
              "    }\n",
              "    80% {\n",
              "      border-color: transparent;\n",
              "      border-right-color: var(--fill-color);\n",
              "      border-bottom-color: var(--fill-color);\n",
              "    }\n",
              "    90% {\n",
              "      border-color: transparent;\n",
              "      border-bottom-color: var(--fill-color);\n",
              "    }\n",
              "  }\n",
              "</style>\n",
              "\n",
              "  <script>\n",
              "    async function quickchart(key) {\n",
              "      const quickchartButtonEl =\n",
              "        document.querySelector('#' + key + ' button');\n",
              "      quickchartButtonEl.disabled = true;  // To prevent multiple clicks.\n",
              "      quickchartButtonEl.classList.add('colab-df-spinner');\n",
              "      try {\n",
              "        const charts = await google.colab.kernel.invokeFunction(\n",
              "            'suggestCharts', [key], {});\n",
              "      } catch (error) {\n",
              "        console.error('Error during call to suggestCharts:', error);\n",
              "      }\n",
              "      quickchartButtonEl.classList.remove('colab-df-spinner');\n",
              "      quickchartButtonEl.classList.add('colab-df-quickchart-complete');\n",
              "    }\n",
              "    (() => {\n",
              "      let quickchartButtonEl =\n",
              "        document.querySelector('#df-943f6f40-826b-4149-9019-f9a666ca3527 button');\n",
              "      quickchartButtonEl.style.display =\n",
              "        google.colab.kernel.accessAllowed ? 'block' : 'none';\n",
              "    })();\n",
              "  </script>\n",
              "</div>\n",
              "\n",
              "    </div>\n",
              "  </div>\n"
            ],
            "application/vnd.google.colaboratory.intrinsic+json": {
              "type": "dataframe",
              "variable_name": "data",
              "summary": "{\n  \"name\": \"data\",\n  \"rows\": 4,\n  \"fields\": [\n    {\n      \"column\": \"Unnamed: 0\",\n      \"properties\": {\n        \"dtype\": \"number\",\n        \"std\": 1,\n        \"min\": 0,\n        \"max\": 3,\n        \"num_unique_values\": 4,\n        \"samples\": [\n          1,\n          3,\n          0\n        ],\n        \"semantic_type\": \"\",\n        \"description\": \"\"\n      }\n    },\n    {\n      \"column\": \"Movie Name\",\n      \"properties\": {\n        \"dtype\": \"string\",\n        \"num_unique_values\": 4,\n        \"samples\": [\n          \"The Godfather\",\n          \"The Chaos Class\",\n          \"The Shawshank Redemption\"\n        ],\n        \"semantic_type\": \"\",\n        \"description\": \"\"\n      }\n    },\n    {\n      \"column\": \"Year of Release\",\n      \"properties\": {\n        \"dtype\": \"number\",\n        \"std\": 11,\n        \"min\": 1972,\n        \"max\": 1994,\n        \"num_unique_values\": 4,\n        \"samples\": [\n          1972,\n          1975,\n          1994\n        ],\n        \"semantic_type\": \"\",\n        \"description\": \"\"\n      }\n    },\n    {\n      \"column\": \"Run Time in minutes\",\n      \"properties\": {\n        \"dtype\": \"number\",\n        \"std\": 36,\n        \"min\": 87,\n        \"max\": 175,\n        \"num_unique_values\": 4,\n        \"samples\": [\n          175,\n          87,\n          142\n        ],\n        \"semantic_type\": \"\",\n        \"description\": \"\"\n      }\n    },\n    {\n      \"column\": \"Movie Rating\",\n      \"properties\": {\n        \"dtype\": \"number\",\n        \"std\": 0.05000000000000071,\n        \"min\": 9.2,\n        \"max\": 9.3,\n        \"num_unique_values\": 2,\n        \"samples\": [\n          9.2,\n          9.3\n        ],\n        \"semantic_type\": \"\",\n        \"description\": \"\"\n      }\n    },\n    {\n      \"column\": \"Votes\",\n      \"properties\": {\n        \"dtype\": \"number\",\n        \"std\": 1401472,\n        \"min\": 12995,\n        \"max\": 2804443,\n        \"num_unique_values\": 4,\n        \"samples\": [\n          1954174,\n          42231\n        ],\n        \"semantic_type\": \"\",\n        \"description\": \"\"\n      }\n    },\n    {\n      \"column\": \"MetaScore\",\n      \"properties\": {\n        \"dtype\": \"number\",\n        \"std\": 12.727922061357855,\n        \"min\": 82.0,\n        \"max\": 100.0,\n        \"num_unique_values\": 2,\n        \"samples\": [\n          100.0,\n          82.0\n        ],\n        \"semantic_type\": \"\",\n        \"description\": \"\"\n      }\n    },\n    {\n      \"column\": \"Gross\",\n      \"properties\": {\n        \"dtype\": \"number\",\n        \"std\": 75398796.07792157,\n        \"min\": 28340000.0,\n        \"max\": 134970000.0,\n        \"num_unique_values\": 2,\n        \"samples\": [\n          134970000.0,\n          28340000.0\n        ],\n        \"semantic_type\": \"\",\n        \"description\": \"\"\n      }\n    },\n    {\n      \"column\": \"Genre\",\n      \"properties\": {\n        \"dtype\": \"string\",\n        \"num_unique_values\": 4,\n        \"samples\": [\n          \"['Crime', ' Drama']\",\n          \"['Comedy', ' Drama']\"\n        ],\n        \"semantic_type\": \"\",\n        \"description\": \"\"\n      }\n    },\n    {\n      \"column\": \"Certification\",\n      \"properties\": {\n        \"dtype\": \"string\",\n        \"num_unique_values\": 2,\n        \"samples\": [\n          \"PG\",\n          \"R\"\n        ],\n        \"semantic_type\": \"\",\n        \"description\": \"\"\n      }\n    },\n    {\n      \"column\": \"Director\",\n      \"properties\": {\n        \"dtype\": \"string\",\n        \"num_unique_values\": 4,\n        \"samples\": [\n          \"['Francis Ford Coppola']\",\n          \"['Ertem Egilmez']\"\n        ],\n        \"semantic_type\": \"\",\n        \"description\": \"\"\n      }\n    },\n    {\n      \"column\": \"Stars\",\n      \"properties\": {\n        \"dtype\": \"string\",\n        \"num_unique_values\": 4,\n        \"samples\": [\n          \"['Marlon Brando', 'Al Pacino', 'James Caan', 'Diane Keaton']\",\n          \"['William Sadler', 'Arun Govil', 'Al Pacino', 'Edie Mirman']\"\n        ],\n        \"semantic_type\": \"\",\n        \"description\": \"\"\n      }\n    },\n    {\n      \"column\": \"Description\",\n      \"properties\": {\n        \"dtype\": \"string\",\n        \"num_unique_values\": 4,\n        \"samples\": [\n          \"['Don', 'Vito', 'Corleone,', 'head', 'of', 'a', 'mafia', 'family,', 'decides', 'to', 'hand', 'over', 'his', 'empire', 'to', 'his', 'youngest', 'son', 'Michael.', 'However,', 'his', 'decision', 'unintentionally', 'puts', 'the', 'lives', 'of', 'his', 'loved', 'ones', 'in', 'grave', 'danger.']\",\n          \"['Lazy,', 'uneducated', 'students', 'share', 'a', 'very', 'close', 'bond.', 'They', 'live', 'together', 'in', 'the', 'dormitory,', 'where', 'they', 'plan', 'their', 'latest', 'pranks.', 'When', 'a', 'new', 'headmaster', 'arrives,', 'the', 'students', 'naturally', 'try', 'to', 'overthrow', 'him.', 'A', 'comic', 'war', 'of', 'nitwits', 'follows.']\"\n        ],\n        \"semantic_type\": \"\",\n        \"description\": \"\"\n      }\n    }\n  ]\n}"
            }
          },
          "metadata": {},
          "execution_count": 275
        }
      ]
    },
    {
      "cell_type": "code",
      "execution_count": null,
      "metadata": {
        "colab": {
          "base_uri": "https://localhost:8080/"
        },
        "id": "wTxj9qmpOY1f",
        "outputId": "efb1836e-bb44-4f7f-9882-2d2355ce8195"
      },
      "outputs": [
        {
          "output_type": "stream",
          "name": "stdout",
          "text": [
            "nós: 12\n",
            "arestas: 23\n"
          ]
        }
      ],
      "source": [
        "# Cria um grafo não-direcionado\n",
        "G = nx.Graph()\n",
        "\n",
        "# Itera pelas linhas do DataFrame 'data'\n",
        "for index, row in data.iterrows():\n",
        "    # Converte a string da coluna 'Stars' para uma lista de atores usando ast.literal_eval\n",
        "    actors = ast.literal_eval(row['Stars'])\n",
        "\n",
        "    # Adiciona os atores como nós ao grafo\n",
        "    G.add_nodes_from(actors)\n",
        "\n",
        "    # Cria arestas entre todos os pares de atores\n",
        "    for i, actor in enumerate(actors):\n",
        "        for j in range(i + 1, len(actors)):\n",
        "            G.add_edge(actor, actors[j])\n",
        "\n",
        "# Obtém o número de nós e arestas do grafo\n",
        "num_nodes = G.number_of_nodes()\n",
        "num_edges = G.number_of_edges()\n",
        "\n",
        "# Exibe o número de nós e arestas\n",
        "print(f\"nós: {num_nodes}\")\n",
        "print(f\"arestas: {num_edges}\")\n"
      ]
    },
    {
      "cell_type": "code",
      "source": [
        "# Cria um conjunto vazio para armazenar atores distintos\n",
        "actors_distinct = set()\n",
        "\n",
        "# Itera pelas linhas do DataFrame 'data'\n",
        "for index, row in data.iterrows():\n",
        "    # Converte a string da coluna 'Stars' em uma lista de atores\n",
        "    actors = ast.literal_eval(row['Stars'])\n",
        "\n",
        "    # Adiciona os atores ao conjunto (garante que sejam únicos)\n",
        "    actors_distinct.update(actors)\n",
        "\n",
        "# Exibe o conjunto de atores distintos\n",
        "actors_distinct\n"
      ],
      "metadata": {
        "id": "Noexoim7Od4S",
        "colab": {
          "base_uri": "https://localhost:8080/"
        },
        "outputId": "69650857-66a6-4387-fce9-408df93c047d"
      },
      "execution_count": null,
      "outputs": [
        {
          "output_type": "execute_result",
          "data": {
            "text/plain": [
              "{'Al Pacino',\n",
              " 'Arun Govil',\n",
              " 'Bob Gunton',\n",
              " 'Diane Keaton',\n",
              " 'Edie Mirman',\n",
              " 'James Caan',\n",
              " 'Kevin Bacon',\n",
              " 'Marlon Brando',\n",
              " 'Morgan Freeman',\n",
              " 'Rael Padamsee',\n",
              " 'Tim Robbins',\n",
              " 'William Sadler'}"
            ]
          },
          "metadata": {},
          "execution_count": 277
        }
      ]
    },
    {
      "cell_type": "code",
      "source": [
        "# Plotando o grafo\n",
        "import matplotlib.pyplot as plt\n",
        "\n",
        "plt.figure(figsize=(5, 5))\n",
        "\n",
        "pos = nx.spring_layout(G, k=0.15)\n",
        "nx.draw(G, pos, with_labels=True, node_size=20, edge_color=\"gray\", node_color=\"blue\")\n",
        "\n",
        "plt.title(\"Grafo de Atores\")\n",
        "plt.show()\n"
      ],
      "metadata": {
        "id": "kgyfzrTBOkV3",
        "colab": {
          "base_uri": "https://localhost:8080/",
          "height": 559
        },
        "outputId": "108a0167-9664-42d8-a286-9a92165166a3"
      },
      "execution_count": null,
      "outputs": [
        {
          "output_type": "display_data",
          "data": {
            "text/plain": [
              "<Figure size 500x500 with 1 Axes>"
            ],
            "image/png": "[encoded data removed]"
          },
          "metadata": {}
        }
      ]
    },
    {
      "cell_type": "code",
      "source": [
        "from collections import deque\n",
        "import time"
      ],
      "metadata": {
        "id": "6cSUoJP44lOY"
      },
      "execution_count": null,
      "outputs": []
    },
    {
      "cell_type": "markdown",
      "source": [
        "### bidirectional_search\n",
        "\n",
        " Executa a busca bidirecional simultânea de dois nós (um a partir da fonte e outro a partir do alvo) utilizando BFS, expandindo as buscas até que os caminhos se encontrem.\n",
        "\n",
        " O código utilizado foi baseado no algoritmo de BFS do livro Introduction to Algorithms."
      ],
      "metadata": {
        "id": "o5bXSXiyD-TX"
      }
    },
    {
      "cell_type": "code",
      "source": [
        "def bidirectional_search(graph, source, target):\n",
        "    start_time = time.time()\n",
        "    # Verificação de casos base\n",
        "    if source == target: # Ator de origem = Ator de destino\n",
        "        return None, None, None, time.time() - start_time\n",
        "    if source not in graph or target not in graph: # Se ator de origem ou ator de destino não existem no grafo\n",
        "        return None, None, None, time.time() - start_time\n",
        "\n",
        "    # Dicionários para rastrear nós descobertos e pais\n",
        "    discovered_forward = {}\n",
        "    discovered_backward = {}\n",
        "    parent_forward = {}\n",
        "    parent_backward = {}\n",
        "\n",
        "    if target in graph[source]: # Se ator de destino é vizinho do ator de origem\n",
        "        parent_forward.setdefault(source, target)\n",
        "        parent_backward.setdefault(target, source)\n",
        "        return source, parent_forward, parent_backward, time.time() - start_time\n",
        "\n",
        "    # Filas para armazenar e gerenciar os nós que estão sendo explorados durante a busca\n",
        "    q_forward, q_backward = deque(), deque()\n",
        "\n",
        "    # Inicializa as estruturas de discovered de source e de target como 1, o que no livro seria definido como \"cinza\",\n",
        "    # ou seja, foram nós descobertos, porém não completamente explorados\n",
        "    discovered_forward[source], discovered_backward[target] = 1, 1\n",
        "\n",
        "    # Filas de busca inicialmente possuem tanto source e target\n",
        "    q_forward.append(source)\n",
        "    q_backward.append(target)\n",
        "\n",
        "    while q_forward and q_backward: # A buca dura enquanto as filas não estão vazias\n",
        "\n",
        "        # Expandir a busca para frente\n",
        "        v = q_forward.popleft()\n",
        "        for u in graph[v]: # Para cada adjacente de v\n",
        "            if discovered_forward.setdefault(u, 0) == 0: # Se o nó não foi descoberto\n",
        "                discovered_forward[u] = 1 # Marca o nó como \"a explorar\"\n",
        "                parent_forward.setdefault(u, v)  # Guarda o pai do nó\n",
        "                q_forward.append(u) # Adiciona nó na fila\n",
        "                if u in q_backward: # verifica interseção\n",
        "                    return u, parent_forward, parent_backward, time.time() - start_time\n",
        "        discovered_forward[v] = 2 # v foi totalmente explorado\n",
        "\n",
        "        # Expandir a busca para trás\n",
        "        s = q_backward.popleft()\n",
        "        for w in graph[s]:\n",
        "            if discovered_backward.setdefault(w, 0) == 0:\n",
        "                discovered_backward[w] = 1\n",
        "                parent_backward.setdefault(w, s)\n",
        "                q_backward.append(w)\n",
        "                if w in q_forward:\n",
        "                    return w, parent_forward, parent_backward, time.time() - start_time\n",
        "        discovered_backward[s] = 2\n",
        "\n",
        "\n",
        "    return None, parent_forward, parent_backward, time.time() - start_time"
      ],
      "metadata": {
        "id": "RPdvevkmDMyS"
      },
      "execution_count": null,
      "outputs": []
    },
    {
      "cell_type": "markdown",
      "source": [
        "### Funções para impressão do caminho"
      ],
      "metadata": {
        "id": "QVzAT9OBKlBA"
      }
    },
    {
      "cell_type": "code",
      "source": [
        "def reconstruct_path(node_in_common, parent_forward, parent_backward):\n",
        "    # Garante que o caminho de source até target esteja correto\n",
        "    path = []\n",
        "\n",
        "    # Caminho da busca para frente\n",
        "    forward_node = node_in_common\n",
        "\n",
        "    while forward_node is not None and forward_node in parent_forward and parent_forward[forward_node] is not None:\n",
        "        path.append(forward_node)\n",
        "        forward_node = parent_forward[forward_node]\n",
        "    if forward_node is not None:\n",
        "        path.append(forward_node)\n",
        "    path.reverse()\n",
        "\n",
        "    # Caminho da busca para trás\n",
        "    backward_node = node_in_common\n",
        "    while backward_node is not None and backward_node in parent_backward and parent_backward[backward_node] is not None:\n",
        "        backward_node = parent_backward[backward_node]\n",
        "        path.append(backward_node)\n",
        "\n",
        "    return path\n",
        "\n",
        "\n",
        "def format_path(path):\n",
        "    return \" -> \".join(path)\n",
        "\n",
        "def print_final_result(path, exec_time):\n",
        "    formatted_path = format_path(path)\n",
        "    bacon_number = len(path) - 1\n",
        "    print(f\"Caminho encontrado: {formatted_path}\")\n",
        "    print(f\"Número de Bacon: {bacon_number}\")\n",
        "    print(f\"Tempo de execução: {exec_time:8f} segundos\")\n",
        "    return bacon_number"
      ],
      "metadata": {
        "id": "FZ75SR-kD6mK"
      },
      "execution_count": null,
      "outputs": []
    },
    {
      "cell_type": "markdown",
      "source": [
        "### Função principal para realizar a busca"
      ],
      "metadata": {
        "id": "S7cgvv81LzoN"
      }
    },
    {
      "cell_type": "code",
      "source": [
        "def find_bacon_number(graph, source, target):\n",
        "    node_in_common, parent_forward, parent_backward, exec_time = bidirectional_search(graph, source, target)\n",
        "    if node_in_common and parent_forward and parent_backward:\n",
        "        path = reconstruct_path(node_in_common, parent_forward, parent_backward)\n",
        "        return print_final_result(path, exec_time)\n",
        "    else:\n",
        "        print(\"Caminho não encontrado\")\n",
        "        return None"
      ],
      "metadata": {
        "id": "nOYPCw2HKivZ"
      },
      "execution_count": null,
      "outputs": []
    },
    {
      "cell_type": "markdown",
      "source": [
        "### Testes"
      ],
      "metadata": {
        "id": "3BAQMTsVL6uc"
      }
    },
    {
      "cell_type": "code",
      "source": [
        "find_bacon_number(G, 'Kevin Bacon', 'Kevin Bacon') # iguais\n",
        "print()\n",
        "find_bacon_number(G, 'Kevin Bacon', 'Leonardo DiCapri') # nó que não existe\n",
        "print()\n",
        "find_bacon_number(G, 'Edie Mirman', 'Kevin Bacon') # vizinho\n",
        "print()\n",
        "find_bacon_number(G, 'Kevin Bacon', 'William Sadler') # Bacon number = 2\n",
        "print()\n",
        "find_bacon_number(G, 'Kevin Bacon', 'Morgan Freeman') # Bacon number = 3"
      ],
      "metadata": {
        "colab": {
          "base_uri": "https://localhost:8080/"
        },
        "id": "x8-w-hhOL8jI",
        "outputId": "67c67639-5797-4cd0-89ef-5629c0e3eb91"
      },
      "execution_count": null,
      "outputs": [
        {
          "output_type": "stream",
          "name": "stdout",
          "text": [
            "Caminho não encontrado\n",
            "\n",
            "Caminho não encontrado\n",
            "\n",
            "Caminho encontrado: Kevin Bacon -> Edie Mirman\n",
            "Número de Bacon: 1\n",
            "Tempo de execução: 0.000021 segundos\n",
            "\n",
            "Caminho encontrado: Kevin Bacon -> Arun Govil -> William Sadler\n",
            "Número de Bacon: 2\n",
            "Tempo de execução: 0.000027 segundos\n",
            "\n",
            "Caminho encontrado: Kevin Bacon -> Arun Govil -> William Sadler -> Morgan Freeman\n",
            "Número de Bacon: 3\n",
            "Tempo de execução: 0.000032 segundos\n"
          ]
        },
        {
          "output_type": "execute_result",
          "data": {
            "text/plain": [
              "3"
            ]
          },
          "metadata": {},
          "execution_count": 286
        }
      ]
    },
    {
      "cell_type": "markdown",
      "source": [
        "### Grafo do Projeto Prático"
      ],
      "metadata": {
        "id": "GAJAbm2VaLo6"
      }
    },
    {
      "cell_type": "code",
      "source": [
        "file = files.upload()\n",
        "filename = list(file.keys())[0]\n",
        "data = pd.read_csv(io.BytesIO(file[filename]))"
      ],
      "metadata": {
        "id": "W5VX7ShNfcuK",
        "colab": {
          "base_uri": "https://localhost:8080/",
          "height": 73
        },
        "outputId": "d78f7b9f-ea57-44c7-cee5-db9ad60487fc"
      },
      "execution_count": null,
      "outputs": [
        {
          "output_type": "display_data",
          "data": {
            "text/plain": [
              "<IPython.core.display.HTML object>"
            ],
            "text/html": [
              "\n",
              "     <input type=\"file\" id=\"files-1bd17998-1e6c-4e89-a084-15e60ff95b29\" name=\"files[]\" multiple disabled\n",
              "        style=\"border:none\" />\n",
              "     <output id=\"result-1bd17998-1e6c-4e89-a084-15e60ff95b29\">\n",
              "      Upload widget is only available when the cell has been executed in the\n",
              "      current browser session. Please rerun this cell to enable.\n",
              "      </output>\n",
              "      <script>// Copyright 2017 Google LLC\n",
              "//\n",
              "// Licensed under the Apache License, Version 2.0 (the \"License\");\n",
              "// you may not use this file except in compliance with the License.\n",
              "// You may obtain a copy of the License at\n",
              "//\n",
              "//      http://www.apache.org/licenses/LICENSE-2.0\n",
              "//\n",
              "// Unless required by applicable law or agreed to in writing, software\n",
              "// distributed under the License is distributed on an \"AS IS\" BASIS,\n",
              "// WITHOUT WARRANTIES OR CONDITIONS OF ANY KIND, either express or implied.\n",
              "// See the License for the specific language governing permissions and\n",
              "// limitations under the License.\n",
              "\n",
              "/**\n",
              " * @fileoverview Helpers for google.colab Python module.\n",
              " */\n",
              "(function(scope) {\n",
              "function span(text, styleAttributes = {}) {\n",
              "  const element = document.createElement('span');\n",
              "  element.textContent = text;\n",
              "  for (const key of Object.keys(styleAttributes)) {\n",
              "    element.style[key] = styleAttributes[key];\n",
              "  }\n",
              "  return element;\n",
              "}\n",
              "\n",
              "// Max number of bytes which will be uploaded at a time.\n",
              "const MAX_PAYLOAD_SIZE = 100 * 1024;\n",
              "\n",
              "function _uploadFiles(inputId, outputId) {\n",
              "  const steps = uploadFilesStep(inputId, outputId);\n",
              "  const outputElement = document.getElementById(outputId);\n",
              "  // Cache steps on the outputElement to make it available for the next call\n",
              "  // to uploadFilesContinue from Python.\n",
              "  outputElement.steps = steps;\n",
              "\n",
              "  return _uploadFilesContinue(outputId);\n",
              "}\n",
              "\n",
              "// This is roughly an async generator (not supported in the browser yet),\n",
              "// where there are multiple asynchronous steps and the Python side is going\n",
              "// to poll for completion of each step.\n",
              "// This uses a Promise to block the python side on completion of each step,\n",
              "// then passes the result of the previous step as the input to the next step.\n",
              "function _uploadFilesContinue(outputId) {\n",
              "  const outputElement = document.getElementById(outputId);\n",
              "  const steps = outputElement.steps;\n",
              "\n",
              "  const next = steps.next(outputElement.lastPromiseValue);\n",
              "  return Promise.resolve(next.value.promise).then((value) => {\n",
              "    // Cache the last promise value to make it available to the next\n",
              "    // step of the generator.\n",
              "    outputElement.lastPromiseValue = value;\n",
              "    return next.value.response;\n",
              "  });\n",
              "}\n",
              "\n",
              "/**\n",
              " * Generator function which is called between each async step of the upload\n",
              " * process.\n",
              " * @param {string} inputId Element ID of the input file picker element.\n",
              " * @param {string} outputId Element ID of the output display.\n",
              " * @return {!Iterable<!Object>} Iterable of next steps.\n",
              " */\n",
              "function* uploadFilesStep(inputId, outputId) {\n",
              "  const inputElement = document.getElementById(inputId);\n",
              "  inputElement.disabled = false;\n",
              "\n",
              "  const outputElement = document.getElementById(outputId);\n",
              "  outputElement.innerHTML = '';\n",
              "\n",
              "  const pickedPromise = new Promise((resolve) => {\n",
              "    inputElement.addEventListener('change', (e) => {\n",
              "      resolve(e.target.files);\n",
              "    });\n",
              "  });\n",
              "\n",
              "  const cancel = document.createElement('button');\n",
              "  inputElement.parentElement.appendChild(cancel);\n",
              "  cancel.textContent = 'Cancel upload';\n",
              "  const cancelPromise = new Promise((resolve) => {\n",
              "    cancel.onclick = () => {\n",
              "      resolve(null);\n",
              "    };\n",
              "  });\n",
              "\n",
              "  // Wait for the user to pick the files.\n",
              "  const files = yield {\n",
              "    promise: Promise.race([pickedPromise, cancelPromise]),\n",
              "    response: {\n",
              "      action: 'starting',\n",
              "    }\n",
              "  };\n",
              "\n",
              "  cancel.remove();\n",
              "\n",
              "  // Disable the input element since further picks are not allowed.\n",
              "  inputElement.disabled = true;\n",
              "\n",
              "  if (!files) {\n",
              "    return {\n",
              "      response: {\n",
              "        action: 'complete',\n",
              "      }\n",
              "    };\n",
              "  }\n",
              "\n",
              "  for (const file of files) {\n",
              "    const li = document.createElement('li');\n",
              "    li.append(span(file.name, {fontWeight: 'bold'}));\n",
              "    li.append(span(\n",
              "        `(${file.type || 'n/a'}) - ${file.size} bytes, ` +\n",
              "        `last modified: ${\n",
              "            file.lastModifiedDate ? file.lastModifiedDate.toLocaleDateString() :\n",
              "                                    'n/a'} - `));\n",
              "    const percent = span('0% done');\n",
              "    li.appendChild(percent);\n",
              "\n",
              "    outputElement.appendChild(li);\n",
              "\n",
              "    const fileDataPromise = new Promise((resolve) => {\n",
              "      const reader = new FileReader();\n",
              "      reader.onload = (e) => {\n",
              "        resolve(e.target.result);\n",
              "      };\n",
              "      reader.readAsArrayBuffer(file);\n",
              "    });\n",
              "    // Wait for the data to be ready.\n",
              "    let fileData = yield {\n",
              "      promise: fileDataPromise,\n",
              "      response: {\n",
              "        action: 'continue',\n",
              "      }\n",
              "    };\n",
              "\n",
              "    // Use a chunked sending to avoid message size limits. See b/62115660.\n",
              "    let position = 0;\n",
              "    do {\n",
              "      const length = Math.min(fileData.byteLength - position, MAX_PAYLOAD_SIZE);\n",
              "      const chunk = new Uint8Array(fileData, position, length);\n",
              "      position += length;\n",
              "\n",
              "      const base64 = btoa(String.fromCharCode.apply(null, chunk));\n",
              "      yield {\n",
              "        response: {\n",
              "          action: 'append',\n",
              "          file: file.name,\n",
              "          data: base64,\n",
              "        },\n",
              "      };\n",
              "\n",
              "      let percentDone = fileData.byteLength === 0 ?\n",
              "          100 :\n",
              "          Math.round((position / fileData.byteLength) * 100);\n",
              "      percent.textContent = `${percentDone}% done`;\n",
              "\n",
              "    } while (position < fileData.byteLength);\n",
              "  }\n",
              "\n",
              "  // All done.\n",
              "  yield {\n",
              "    response: {\n",
              "      action: 'complete',\n",
              "    }\n",
              "  };\n",
              "}\n",
              "\n",
              "scope.google = scope.google || {};\n",
              "scope.google.colab = scope.google.colab || {};\n",
              "scope.google.colab._files = {\n",
              "  _uploadFiles,\n",
              "  _uploadFilesContinue,\n",
              "};\n",
              "})(self);\n",
              "</script> "
            ]
          },
          "metadata": {}
        },
        {
          "output_type": "stream",
          "name": "stdout",
          "text": [
            "Saving data.csv to data (7).csv\n"
          ]
        }
      ]
    },
    {
      "cell_type": "code",
      "source": [
        "G = nx.Graph()\n",
        "\n",
        "for index, row in data.iterrows():\n",
        "    actors = ast.literal_eval(row['Stars'])\n",
        "\n",
        "    G.add_nodes_from(actors)\n",
        "\n",
        "    for i, actor in enumerate(actors):\n",
        "        for j in range(i + 1, len(actors)):\n",
        "            G.add_edge(actor, actors[j])\n",
        "\n",
        "num_nodes = G.number_of_nodes()\n",
        "num_edges = G.number_of_edges()\n",
        "\n",
        "print(f\"nós: {num_nodes}\")\n",
        "print(f\"arestas: {num_edges}\")"
      ],
      "metadata": {
        "colab": {
          "base_uri": "https://localhost:8080/"
        },
        "id": "JqVKwH_oSmBc",
        "outputId": "7c93e973-ff8b-4298-a94b-4478ddce8685"
      },
      "execution_count": null,
      "outputs": [
        {
          "output_type": "stream",
          "name": "stdout",
          "text": [
            "nós: 15350\n",
            "arestas: 57140\n"
          ]
        }
      ]
    },
    {
      "cell_type": "code",
      "source": [
        "plt.figure(figsize=(5, 5))\n",
        "\n",
        "pos = nx.spring_layout(G, k=0.15)\n",
        "nx.draw(G, pos, with_labels=False, node_size=20, edge_color=\"gray\", node_color=\"blue\")\n",
        "\n",
        "plt.title(\"Grafo de Atores\")\n",
        "plt.show()"
      ],
      "metadata": {
        "colab": {
          "base_uri": "https://localhost:8080/",
          "height": 559
        },
        "id": "xbgGK3pKSvja",
        "outputId": "57216d46-86a0-41cd-d571-2ee478e3a51b"
      },
      "execution_count": null,
      "outputs": [
        {
          "output_type": "display_data",
          "data": {
            "text/plain": [
              "<Figure size 500x500 with 1 Axes>"
            ],
            "image/png": "[encoded data removed]"
          },
          "metadata": {}
        }
      ]
    },
    {
      "cell_type": "code",
      "source": [
        "find_bacon_number(G, 'Tom Hanks', 'Kevin Bacon')\n",
        "print()\n",
        "find_bacon_number(G, 'Leonardo DiCaprio', 'Kevin Bacon')\n",
        "print()\n",
        "find_bacon_number(G, 'Joaquin Phoenix', 'Kevin Bacon')\n",
        "print()\n",
        "find_bacon_number(G, 'Jennifer Aniston', 'Kevin Bacon')\n",
        "print()\n",
        "find_bacon_number(G, 'Keanu Reeves', 'Kevin Bacon')\n",
        "print()\n",
        "find_bacon_number(G, 'Meryl Streep', 'Kevin Bacon')\n",
        "print()\n",
        "find_bacon_number(G, 'Brad Pitt', 'Kevin Bacon')\n",
        "print()\n",
        "find_bacon_number(G, 'Akshay Kumar', 'Kevin Bacon')\n",
        "print()\n"
      ],
      "metadata": {
        "colab": {
          "base_uri": "https://localhost:8080/"
        },
        "id": "ULS0cl0eS-xo",
        "outputId": "a7771860-4e22-433d-dad2-618338ece10a"
      },
      "execution_count": null,
      "outputs": [
        {
          "output_type": "stream",
          "name": "stdout",
          "text": [
            "Caminho encontrado: Kevin Bacon -> Tom Hanks\n",
            "Número de Bacon: 1\n",
            "Tempo de execução: 0.000039 segundos\n",
            "\n",
            "Caminho encontrado: Leonardo DiCaprio -> Jack Nicholson -> Kevin Bacon\n",
            "Número de Bacon: 2\n",
            "Tempo de execução: 0.000108 segundos\n",
            "\n",
            "Caminho encontrado: Joaquin Phoenix -> Robert De Niro -> Kevin Bacon\n",
            "Número de Bacon: 2\n",
            "Tempo de execução: 0.000147 segundos\n",
            "\n",
            "Caminho encontrado: Kevin Bacon -> Jennifer Aniston\n",
            "Número de Bacon: 1\n",
            "Tempo de execução: 0.000017 segundos\n",
            "\n",
            "Caminho encontrado: Keanu Reeves -> Jack Nicholson -> Kevin Bacon\n",
            "Número de Bacon: 2\n",
            "Tempo de execução: 0.000169 segundos\n",
            "\n",
            "Caminho encontrado: Kevin Bacon -> Meryl Streep\n",
            "Número de Bacon: 1\n",
            "Tempo de execução: 0.000009 segundos\n",
            "\n",
            "Caminho encontrado: Kevin Bacon -> Brad Pitt\n",
            "Número de Bacon: 1\n",
            "Tempo de execução: 0.000007 segundos\n",
            "\n",
            "Caminho encontrado: Akshay Kumar -> Om Puri -> Tim Robbins -> Kevin Bacon\n",
            "Número de Bacon: 3\n",
            "Tempo de execução: 0.001273 segundos\n",
            "\n"
          ]
        }
      ]
    },
    {
      "cell_type": "markdown",
      "source": [
        "## Busca Heurística"
      ],
      "metadata": {
        "id": "cQEWbEwlW2qR"
      }
    },
    {
      "cell_type": "markdown",
      "source": [
        "Aqui organizando o grafo utilizado na busca heurística, adicionando o grau de cada vertice pois isso será utilizado na busca."
      ],
      "metadata": {
        "id": "TJ2WVw4YOMsd"
      }
    },
    {
      "cell_type": "code",
      "source": [
        "import networkx as nx\n",
        "import ast"
      ],
      "metadata": {
        "id": "Z9gv5uMaOdA6"
      },
      "execution_count": null,
      "outputs": []
    },
    {
      "cell_type": "code",
      "source": [
        "G = nx.Graph()\n",
        "\n",
        "contagem_atores = {}\n",
        "for index, row in data.iterrows():\n",
        "    actors = ast.literal_eval(row['Stars'])\n",
        "    for actor in actors:\n",
        "        if actor in contagem_atores:\n",
        "            contagem_atores[actor] += 1\n",
        "        else:\n",
        "            contagem_atores[actor] = 1\n",
        "\n",
        "\n",
        "for index, row in data.iterrows():\n",
        "    actors = ast.literal_eval(row['Stars'])\n",
        "\n",
        "    G.add_nodes_from(actors)\n",
        "\n",
        "    for i, actor in enumerate(actors):\n",
        "        for j in range(i + 1, len(actors)):\n",
        "            G.add_edge(actor, actors[j])\n",
        "\n",
        "for actor, quantidade in contagem_atores.items():\n",
        "    G.nodes[actor]['filmes'] = quantidade"
      ],
      "metadata": {
        "id": "jmEsD0JvW5ay"
      },
      "execution_count": null,
      "outputs": []
    },
    {
      "cell_type": "code",
      "source": [
        "plt.figure(figsize=(5, 5))\n",
        "pos = nx.spring_layout(G, k=0.15)\n",
        "\n",
        "nx.draw(G, pos, with_labels=False, node_size=20, edge_color=\"gray\", node_color=\"blue\")\n",
        "\n",
        "plt.title(\"Grafo de Atores\")\n",
        "plt.show()"
      ],
      "metadata": {
        "colab": {
          "base_uri": "https://localhost:8080/",
          "height": 34
        },
        "id": "JBvzFDVev4Il",
        "outputId": "f9e6a45e-931d-4a26-f353-35a8269a3e5b"
      },
      "execution_count": null,
      "outputs": [
        {
          "output_type": "display_data",
          "data": {
            "text/plain": [
              "<Figure size 500x500 with 0 Axes>"
            ]
          },
          "metadata": {}
        }
      ]
    },
    {
      "cell_type": "code",
      "source": [
        "# Exibir informações do grafo\n",
        "num_nodes = G.number_of_nodes()\n",
        "num_edges = G.number_of_edges()\n",
        "print(f\"Nós: {num_nodes}\")\n",
        "print(f\"Arestas: {num_edges}\")\n"
      ],
      "metadata": {
        "colab": {
          "base_uri": "https://localhost:8080/"
        },
        "id": "MuHpNkwlv6hZ",
        "outputId": "46c41d2a-7f20-4f67-c07e-9af0736e096f"
      },
      "execution_count": null,
      "outputs": [
        {
          "output_type": "stream",
          "name": "stdout",
          "text": [
            "Nós: 15350\n",
            "Arestas: 57140\n"
          ]
        }
      ]
    },
    {
      "cell_type": "markdown",
      "source": [
        "O caminho heuristico aqui se baseia em procurar sempre pelas pessoas com mais conexões (filmes) para fazer o caminho."
      ],
      "metadata": {
        "id": "nLxyTNrxOEPj"
      }
    },
    {
      "cell_type": "code",
      "source": [
        "def buscar_caminho_heuristico(grafo, inicio, destino):\n",
        "    start_time = time.time()\n",
        "    if inicio not in grafo or destino not in grafo:\n",
        "        print(f\"{inicio} ou {destino} não estão no grafo.\")\n",
        "        exec_time = time.time() - start_time\n",
        "        print(f\"Tempo de execução: {exec_time:.4f} segundos\")\n",
        "        return 0\n",
        "\n",
        "    visitados = set()\n",
        "    fila = [(grafo.degree(inicio), inicio, [inicio])]  #  (grau, nó atual, caminho atual)\n",
        "\n",
        "    while fila:\n",
        "        # Ordena a fila por grau\n",
        "        fila.sort(reverse=True, key=lambda x: x[0])\n",
        "        a, atual, caminho = fila.pop(0)\n",
        "\n",
        "        if destino in grafo.neighbors(atual):\n",
        "            print(\"Caminho encontrado:\", \" -> \".join(caminho + [destino]))\n",
        "            print(f\"Número de Bacon: {len(caminho + [destino])-1}\")\n",
        "            exec_time = time.time() - start_time\n",
        "            print(f\"Tempo de execução: {exec_time:.4f} segundos\")\n",
        "            return\n",
        "        if atual in visitados:\n",
        "            continue\n",
        "        visitados.add(atual)\n",
        "\n",
        "        for vizinho in grafo.neighbors(atual):\n",
        "            if vizinho not in visitados:\n",
        "                fila.append((grafo.degree(vizinho), vizinho, caminho + [vizinho]))\n",
        "\n",
        "    print(f\"Sem caminho entre {inicio} e {destino}.\")\n",
        "    exec_time = time.time() - start_time\n",
        "    print(f\"Tempo de execução: {exec_time:.4f} segundos\")\n",
        "    return None"
      ],
      "metadata": {
        "id": "PAynW8jvv9YA"
      },
      "execution_count": null,
      "outputs": []
    },
    {
      "cell_type": "markdown",
      "source": [
        "Pode-se notar por exemplo que Keanu Reeves e Kevin Bacon muda o valor de Bacon entre os algoritmos.\n",
        "\n",
        "Isso se deve pelo fato de que entre eles existem pessoas com mais conexões mas não necessariamente levam ao menor caminho."
      ],
      "metadata": {
        "id": "0h4wmGR4N3kX"
      }
    },
    {
      "cell_type": "code",
      "source": [
        "buscar_caminho_heuristico(G, 'Tom Hanks', 'Kevin Bacon')\n",
        "print()\n",
        "buscar_caminho_heuristico(G, 'Leonardo DiCaprio', 'Kevin Bacon')\n",
        "print()\n",
        "buscar_caminho_heuristico(G, 'Joaquin Phoenix', 'Kevin Bacon')\n",
        "print()\n",
        "buscar_caminho_heuristico(G, 'Jennifer Aniston', 'Kevin Bacon')\n",
        "print()\n",
        "buscar_caminho_heuristico(G, 'Keanu Reeves', 'Kevin Bacon')\n",
        "print()\n",
        "buscar_caminho_heuristico(G, 'Meryl Streep', 'Kevin Bacon')\n",
        "print()\n",
        "buscar_caminho_heuristico(G, 'Brad Pitt', 'Kevin Bacon')\n",
        "print()\n",
        "buscar_caminho_heuristico(G, 'Akshay Kumar', 'Kevin Bacon')\n",
        "print()"
      ],
      "metadata": {
        "colab": {
          "base_uri": "https://localhost:8080/"
        },
        "id": "XkaySUyW2aax",
        "outputId": "e3c90455-4264-439b-c652-1c88139dfc0a"
      },
      "execution_count": null,
      "outputs": [
        {
          "output_type": "stream",
          "name": "stdout",
          "text": [
            "Caminho encontrado: Tom Hanks -> Kevin Bacon\n",
            "Número de Bacon: 1\n",
            "Tempo de execução: 0.0027 segundos\n",
            "\n",
            "Caminho encontrado: Leonardo DiCaprio -> Robert De Niro -> Kevin Bacon\n",
            "Número de Bacon: 2\n",
            "Tempo de execução: 0.0003 segundos\n",
            "\n",
            "Caminho encontrado: Joaquin Phoenix -> Robert De Niro -> Kevin Bacon\n",
            "Número de Bacon: 2\n",
            "Tempo de execução: 0.0070 segundos\n",
            "\n",
            "Caminho encontrado: Jennifer Aniston -> Kevin Bacon\n",
            "Número de Bacon: 1\n",
            "Tempo de execução: 0.0001 segundos\n",
            "\n",
            "Caminho encontrado: Keanu Reeves -> Morgan Freeman -> Robert De Niro -> Kevin Bacon\n",
            "Número de Bacon: 3\n",
            "Tempo de execução: 0.0008 segundos\n",
            "\n",
            "Caminho encontrado: Meryl Streep -> Kevin Bacon\n",
            "Número de Bacon: 1\n",
            "Tempo de execução: 0.0001 segundos\n",
            "\n",
            "Caminho encontrado: Brad Pitt -> Kevin Bacon\n",
            "Número de Bacon: 1\n",
            "Tempo de execução: 0.0001 segundos\n",
            "\n",
            "Caminho encontrado: Akshay Kumar -> Amitabh Bachchan -> Irrfan Khan -> Tom Hanks -> Kevin Bacon\n",
            "Número de Bacon: 4\n",
            "Tempo de execução: 0.0248 segundos\n",
            "\n"
          ]
        }
      ]
    },
    {
      "cell_type": "markdown",
      "source": [
        "#  Avaliação e Resultados\n",
        "\n",
        "## Tempo de Execução\n",
        "A busca bidirecional demorou menos tempo para achar os atores procurados do que a heurística proposta pelo grupo. Isso era esperado, já que busca bidirecional é geralmente mais rápida que a busca gulosa com fila de prioridade, porque explora o grafo simultaneamente a partir do estado inicial e do estado final, reduzindo significativamente o número total de nós explorados. Enquanto a busca gulosa toma decisões baseadas em uma heurística local, o que pode levar a explorar caminhos menos eficientes, a busca bidirecional divide o problema em duas partes e encontra o ponto de interseção mais rapidamente.\n",
        "\n",
        "## Precisão\n",
        "Além do pior tempo de excução, a heurística teve uma precisão menor que a busca bidirecional, por exemplo, o ator Akshay Kumar tem um número de Bacon 4 na heurística de melhoria da busca gulosa, já o número de Bacon do mesmo ator é 3 na busca bidirecional. Isso se deve ao fato de que a busca bidirecional explora simultaneamente os caminhos a partir do ponto de origem e do ponto de destino, garantindo uma exploração mais completa e balanceada do grafo. Ao fazer isso, ela minimiza a chance de ignorar conexões importantes ou mais curtas entre os nós, algo que a busca gulosa, mesmo com heurística, pode não fazer."
      ],
      "metadata": {
        "id": "2xpPYrZMV0dX"
      }
    },
    {
      "cell_type": "markdown",
      "source": [
        "# Análise de Complexidade\n",
        "\n",
        "\n",
        "## Complexidade de Tempo\n",
        "\n",
        "* Busca Bidirecional\n",
        "\n",
        "A busca bidirecional apresenta uma complexidade de tempo de $O(b^{\\frac{d}{2}})$, onde 'b' é o fator de ramificação e 'd' é a profundidade da solução. Essa complexidade representa uma melhoria significativa em relação à busca unidirecional, que possui complexidade de $O(b^d)$. A busca em ambas as direções reduz consideravelmente o número de nós explorados, resultando em um tempo de execução menor\n",
        "\n",
        "* Busca Heurística\n",
        "\n",
        "O tempo de busca do algoritmo feito pelo grupo tem um tempo menor em relação aos algoritmos de busca mais conhecidos (que geralmente tem complexidade $O(b^d)$), pois seguimos um caminho pré definido, no caso, priorizar o ator com mais filmes feitos (quando não achamos o ator procurado). A operação de sort tem a complexidade $O(n log n)$, onde n é o número de elementos na fila. Como o sort é feito em cada iteração do while, o custo é multiplicado pelo número de nós, resultando em $O(v^2 log v)$, no pior caso, com v sendo o número de vértices do grafo. Apesar disso, a busca heurística ainda possui um tempo pior que a busca bidirecional.\n",
        "\n",
        "\n",
        "## Complexidade de Espaço\n",
        "\n",
        "* Busca Bidirecional\n",
        "\n",
        "A busca bidirecional apresenta uma complexidade de espaço de $O(b^{\\frac{d}{2}})$. Para garantir o encontro das buscas, os nós de pelo menos uma das frentes de busca devem ser armazenados em memória, similar à busca em largura. Em problemas com alto fator de ramificação, essa necessidade de armazenamento pode ser um fator limitante.\n",
        "\n",
        "* Busca Heurística\n",
        "\n",
        "Apesar da diminuição do tempo da busca heurística, o espaço que ele ocupa ainda é $O(b^d)$, pois as arestas possíveis de serem traçadas não são eliminadas, elas só entram em uma fila de prioridade para saber qual vai ser navegada primeiro."
      ],
      "metadata": {
        "id": "BrjvznNIXAn_"
      }
    },
    {
      "cell_type": "markdown",
      "source": [
        "# Conclusões\n",
        "\n",
        "Os algoritmos de busca são fundamentais em diversas áreas da ciência da computação e na vida cotidiana, pois permitem que sistemas encontrem informações de forma eficiente e organizada.\n",
        "\n",
        "A busca bidirecional, em particular, destaca-se por sua eficiência, já que explora simultaneamente o caminho a partir do estado inicial e do estado final, reduzindo significativamente o espaço de busca. Entretanto, é importante lembrar que a busca bidirecional só é vantajosa quando sabemos onde queremos chegar e temos algum conhecimento sobre o caminho que poidemos percorrer a partir do estado final.\n",
        "\n",
        "Em casos onde essa informação é limitada, algoritmos como o A* continuam sendo altamente relevantes, pois utilizam heurísticas que orientam a busca, permitindo encontrar soluções eficientes mesmo em cenários de incerteza.\n",
        "\n",
        "Além dos algoritmos mais conhecidos na literatura, podemos criar nossas próprias heurísticas, que foi o caso do nosso projeto. Apesar do pior desempenho do algoritmo, foi uma estratégia que chegou em resultados satisfatórios, já que conseguimos ficar dentro da \"teoria dos seis graus de separação de Kevin Bacon\" em todos os casos de teste, provando que, ainda assim, é uma estratégia satisfatível na programação.\n",
        "\n",
        "Quanto às melhorias para os algoritmos de busca, um dos principais avanços seria a combinação de técnicas heurísticas com algoritmos tradicionais, como a busca A* e a busca bidirecional. Integrar uma heurística inteligente, baseada em aprendizado de máquina, por exemplo, pode otimizar ainda mais o processo de busca, adaptando-se dinamicamente à complexidade do problema.\n",
        "\n"
      ],
      "metadata": {
        "id": "5AtTKDuFXzpq"
      }
    },
    {
      "cell_type": "markdown",
      "source": [
        "# Referências\n",
        "\n",
        "ALUÍSIO, Sandra Maria; MONTESCO, Carlos A. Estombelo; GONZALES TACO, Pastor W. **Problema do Jogo das Oito Fichas (8 Puzzle) Fazendo uso da Busca Bidirecional.** Disponível em: https://sites.icmc.usp.br/sandra/G5_t2/8_Puzzle.htm. Acesso em: 11 out. 2024.\n",
        "\n",
        "ACERVO LIMA. **Pesquisa bidirecional**. Disponível em: https://acervolima.com/pesquisa-bidirecional/#:~:text=A%20pesquisa%20bidirecional%20%C3%A9%20um%20algoritmo%20de%20pesquisa,v%C3%A9rtice%20inicial%20em%20dire%C3%A7%C3%A3o%20ao%20v%C3%A9rtice%20da%20meta. Acesso em: 11 out. 2024.\n",
        "\n",
        "CORMEN, T. H; LEISERSON, C.E.; RIVEST, Ronald; STEIN, Clifford. **Algoritmos: Estrutura e Prática**. 3ª ed. Rio de Janeiro: Elsevier, 2010. 1120 p.\n",
        "\n",
        "MELO.T.E. **Aula de Problemas de Busca**, 3 out. 2024. Disponível em: https://www.dropbox.com/scl/fi/42wfgmcw2d7v8drb4v8kn/aula03-problemas-busca.pdf?rlkey=5et95iojzjwbzt8j7qsdja7im&e=1&st=sqcewaf7&dl=0. Acesso em 9 out. 2024.\n",
        "\n"
      ],
      "metadata": {
        "id": "sJSvPMVNb28i"
      }
    }
  ]
}